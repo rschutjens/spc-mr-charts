{
 "cells": [
  {
   "source": [
    "import pandas as pd\n",
    "import matplotlib.pyplot as plt\n",
    "import matplotlib.dates as mdates\n",
    "import numpy as np\n",
    "\n",
    "from stats import d2, D3, D4\n",
    "from stats import XMR\n",
    "\n",
    "from pandas.plotting import register_matplotlib_converters\n",
    "register_matplotlib_converters()"
   ],
   "cell_type": "code",
   "outputs": [],
   "metadata": {},
   "execution_count": 0
  },
  {
   "cell_type": "markdown",
   "metadata": {},
   "outputs": [],
   "source": [
    "# Guess the Process, Moving Range Charts\n",
    "\n",
    "One of the easiest ways to start monitor a process is a moving range chart, especially if you have no prior data or knowledge of a process. Besides that, many processes do not allow for grouping up results for samples, so single measurements are the natural way to track it. Moving range charts are also used in many complicated processes as one part of their process control. It is also an introduction to more complicated charting like EWMA, or feedback in engineering control.\n",
    "\n",
    "Even though there are lots of software packages that can be used to do calculations for control charting, it is very straight forward to implement yourself. See this small repository I made with some code to produce the figures for this post. Feel free to take a look and use for yourself. There is also a bit more information on calculating the limits.\n",
    "\n",
    "The control limits for the $\\bar{X}$ chart are calculated as followed:\n",
    "$$\n",
    "\\bar{X} = \\frac{\\sum_{i=1}^n{x_i}}{n} \\\\\n",
    "UCL = \\bar{X} + 3 \\frac{\\bar{MR}}{d_2} \\\\\n",
    "UCL = \\bar{X} - 3 \\frac{\\bar{MR}}{d_2}\n",
    "$$\n",
    "\n",
    "Here $x_i$ are the measurement values, $d_2=1.128$ is a statistical constant, the center line is given by $\\bar{X}$. Below it shows how to calculate $\\bar{MR}$ and the control limits for the $MR$ chart. \n",
    "\n",
    "$$\n",
    "\\bar{MR} = \\frac{\\sum_{i=2}^n{MR_i}}{n-1} \\\\\n",
    "MR_i=|x_i-x_{i-1}| \\\\\n",
    "UCL = D_4 \\bar{MR} \\\\\n",
    "LCL = D_3 \\bar{MR}\n",
    "$$\n",
    "\n",
    "$D_3=0$, and $D_4=3.267$ are statistical constants."
   ]
  },
  {
   "source": [
    "df = pd.read_csv('data.csv')\n",
    "df['date'] = pd.to_datetime(df['date'], format='%d-%b-%y')"
   ],
   "cell_type": "code",
   "outputs": [],
   "metadata": {},
   "execution_count": 0
  },
  {
   "source": [
    "xmr_A = XMR(df['A'].values, index=df['date'].values)\n",
    "xmr_B = XMR(df['B'].values, index=df['date'].values)"
   ],
   "cell_type": "code",
   "outputs": [],
   "metadata": {},
   "execution_count": 0
  },
  {
   "source": [
    "fig, axes = plt.subplots(nrows=2, ncols=2, sharex=True, sharey='row', tight_layout=True)\n",
    "ax = axes.flatten()\n",
    "\n",
    "xmr_A.xchart(ax[0])\n",
    "xmr_A.mrchart(ax[2])\n",
    "xmr_B.xchart(ax[1], color='orange')\n",
    "xmr_B.mrchart(ax[3], color='orange')\n",
    "\n",
    "ax[0].xaxis.set_major_locator(mdates.WeekdayLocator()) # major ticks every start of week\n",
    "ax[0].xaxis.set_minor_locator(mdates.DayLocator()) # minor ticks every day\n",
    "ax[0].xaxis.set_major_formatter(mdates.DateFormatter('%b %d'))\n",
    "plt.setp(ax[2].get_xticklabels(), rotation=45)\n",
    "plt.setp(ax[3].get_xticklabels(), rotation=45)\n",
    "ax[0].set_ylabel('X')\n",
    "ax[2].set_ylabel('MR')\n",
    "ax[0].set_title('A')\n",
    "ax[1].set_title('B')\n",
    "\n",
    "plt.show()"
   ],
   "cell_type": "code",
   "outputs": [],
   "metadata": {},
   "execution_count": 0
  },
  {
   "cell_type": "markdown",
   "metadata": {},
   "outputs": [],
   "source": [
    "The charts above are two control charts, A dnd B, that follow the same process, with measurements done almost daily. I've set up the control charts next to each other and used the same ranges for the vertical and horizontal axes so it is easier to compare. Both charts behave the same, this is even more clear by looking at the figure below where both are plotted in the same figure."
   ]
  },
  {
   "source": [
    "axes = df.plot(x='date', y='A', marker='o', )\n",
    "df.plot(x='date', y='B', marker='o', ax=axes, color='orange')\n",
    "\n",
    "axes.legend()\n",
    "axes.xaxis.set_major_locator(mdates.WeekdayLocator()) # major ticks every start of week\n",
    "axes.xaxis.set_minor_locator(mdates.DayLocator()) # minor ticks every day\n",
    "axes.xaxis.set_major_formatter(mdates.DateFormatter('%b %d'))\n",
    "plt.setp(axes.get_xticklabels(), rotation=45)\n",
    "axes.set_ylabel('X')\n",
    "\n",
    "plt.show()"
   ],
   "cell_type": "code",
   "outputs": [],
   "metadata": {},
   "execution_count": 0
  },
  {
   "cell_type": "markdown",
   "metadata": {},
   "outputs": [],
   "source": [
    "At the moment the amount of data is still quite limited, so I won't discuss in or out of control conditions until I get to update the figures with some more data. \n",
    "\n",
    "Here is the main question though:\n",
    " - What process do you think these charts are tracking?\n",
    "\n",
    "Post your answer in the comment, or ask questions for hints.\n",
    "\n",
    "Lastly, another way to use the moving range chart is to monitor the measurement system for consistency. In about 2 weeks I should have enough data to show the results for the measurement sysem used to monitor the process above."
   ]
  },
  {
   "source": [
    "xmr_A.data_mr"
   ],
   "cell_type": "code",
   "outputs": [],
   "metadata": {},
   "execution_count": 0
  },
  {
   "cell_type": "code",
   "execution_count": null,
   "metadata": {},
   "outputs": [],
   "source": []
  }
 ],
 "metadata": {
  "kernelspec": {
   "display_name": "Python 3",
   "language": "python",
   "name": "python3"
  },
  "language_info": {
   "codemirror_mode": {
    "name": "ipython",
    "version": 3
   },
   "file_extension": ".py",
   "mimetype": "text/x-python",
   "name": "python",
   "nbconvert_exporter": "python",
   "pygments_lexer": "ipython3",
   "version": "3.7.4"
  }
 },
 "nbformat": 4,
 "nbformat_minor": 4
}